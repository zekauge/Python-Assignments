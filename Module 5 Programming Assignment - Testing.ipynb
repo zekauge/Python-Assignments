{
  "metadata": {
    "kernelspec": {
      "name": "python",
      "display_name": "Python (Pyodide)",
      "language": "python"
    },
    "language_info": {
      "codemirror_mode": {
        "name": "python",
        "version": 3
      },
      "file_extension": ".py",
      "mimetype": "text/x-python",
      "name": "python",
      "nbconvert_exporter": "python",
      "pygments_lexer": "ipython3",
      "version": "3.8"
    }
  },
  "nbformat_minor": 4,
  "nbformat": 4,
  "cells": [
    {
      "cell_type": "code",
      "source": "def test_sum():\n    assert sum([1, 2, 3]) == 6, \"Should be 6\"\n\nif __name__ == \"__main__\":\n    test_sum()\n    print(\"Everything passed\")",
      "metadata": {
        "trusted": true
      },
      "outputs": [
        {
          "name": "stdout",
          "text": "Everything passed\n",
          "output_type": "stream"
        }
      ],
      "execution_count": 1
    },
    {
      "cell_type": "code",
      "source": "def test_sum():\n    assert sum([1, 2, 3]) == 6, \"Should be 6\"\n\ndef test_sum_tuple():\n    assert sum((1, 2, 2)) == 6, \"Should be 6\"\n\nif __name__ == \"__main__\":\n    test_sum()\n    test_sum_tuple()\n    print(\"Everything passed\")",
      "metadata": {
        "trusted": true
      },
      "outputs": [
        {
          "ename": "<class 'AssertionError'>",
          "evalue": "Should be 6",
          "traceback": [
            "\u001b[0;31m---------------------------------------------------------------------------\u001b[0m",
            "\u001b[0;31mAssertionError\u001b[0m                            Traceback (most recent call last)",
            "Cell \u001b[0;32mIn[2], line 9\u001b[0m\n\u001b[1;32m      7\u001b[0m \u001b[38;5;28;01mif\u001b[39;00m \u001b[38;5;18m__name__\u001b[39m \u001b[38;5;241m==\u001b[39m \u001b[38;5;124m\"\u001b[39m\u001b[38;5;124m__main__\u001b[39m\u001b[38;5;124m\"\u001b[39m:\n\u001b[1;32m      8\u001b[0m     test_sum()\n\u001b[0;32m----> 9\u001b[0m     \u001b[43mtest_sum_tuple\u001b[49m\u001b[43m(\u001b[49m\u001b[43m)\u001b[49m\n\u001b[1;32m     10\u001b[0m     \u001b[38;5;28mprint\u001b[39m(\u001b[38;5;124m\"\u001b[39m\u001b[38;5;124mEverything passed\u001b[39m\u001b[38;5;124m\"\u001b[39m)\n",
            "Cell \u001b[0;32mIn[2], line 5\u001b[0m, in \u001b[0;36mtest_sum_tuple\u001b[0;34m()\u001b[0m\n\u001b[1;32m      4\u001b[0m \u001b[38;5;28;01mdef\u001b[39;00m \u001b[38;5;21mtest_sum_tuple\u001b[39m():\n\u001b[0;32m----> 5\u001b[0m     \u001b[38;5;28;01massert\u001b[39;00m \u001b[38;5;28msum\u001b[39m((\u001b[38;5;241m1\u001b[39m, \u001b[38;5;241m2\u001b[39m, \u001b[38;5;241m2\u001b[39m)) \u001b[38;5;241m==\u001b[39m \u001b[38;5;241m6\u001b[39m, \u001b[38;5;124m\"\u001b[39m\u001b[38;5;124mShould be 6\u001b[39m\u001b[38;5;124m\"\u001b[39m\n",
            "\u001b[0;31mAssertionError\u001b[0m: Should be 6"
          ],
          "output_type": "error"
        }
      ],
      "execution_count": 2
    },
    {
      "cell_type": "code",
      "source": "import unittest\n\n\nclass TestSum(unittest.TestCase):\n\n    def test_sum(self):\n        self.assertEqual(sum([1, 2, 3]), 6, \"Should be 6\")\n\n    def test_sum_tuple(self):\n        self.assertEqual(sum((1, 2, 2)), 6, \"Should be 6\")\n\nif __name__ == '__main__':\n    unittest.main()",
      "metadata": {
        "trusted": true,
        "scrolled": true
      },
      "outputs": [
        {
          "name": "stderr",
          "text": ".F\n======================================================================\nFAIL: test_sum_tuple (__main__.TestSum.test_sum_tuple)\n----------------------------------------------------------------------\nTraceback (most recent call last):\n  File \"<ipython-input-3-e894ff2a565d>\", line 10, in test_sum_tuple\n    self.assertEqual(sum((1, 2, 2)), 6, \"Should be 6\")\nAssertionError: 5 != 6 : Should be 6\n\n----------------------------------------------------------------------\nRan 2 tests in 0.001s\n\nFAILED (failures=1)\n/lib/python3.12/site-packages/IPython/core/interactiveshell.py:3585: UserWarning: To exit: use 'exit', 'quit', or Ctrl-D.\n  warn(\"To exit: use 'exit', 'quit', or Ctrl-D.\", stacklevel=1)\n",
          "output_type": "stream"
        },
        {
          "ename": "<class 'SystemExit'>",
          "evalue": "1",
          "traceback": [
            "An exception has occurred, use %tb to see the full traceback.\n",
            "\u001b[0;31mSystemExit\u001b[0m\u001b[0;31m:\u001b[0m 1\n"
          ],
          "output_type": "error"
        }
      ],
      "execution_count": 3
    },
    {
      "cell_type": "code",
      "source": "def test_sum():\n    assert sum([1, 2, 3]) == 6, \"Should be 6\"\n\ndef test_sum_tuple():\n    assert sum((1, 2, 2)) == 6, \"Should be 6\"",
      "metadata": {
        "trusted": true
      },
      "outputs": [],
      "execution_count": 4
    },
    {
      "cell_type": "code",
      "source": "def sum(arg):\n    total = 0\n    for val in arg:\n        total += val\n    return total",
      "metadata": {
        "trusted": true
      },
      "outputs": [],
      "execution_count": 5
    },
    {
      "cell_type": "code",
      "source": "import unittest\n\nfrom my_sum import sum\n\n\nclass TestSum(unittest.TestCase):\n    def test_list_int(self):\n        \"\"\"\n        Test that it can sum a list of integers\n        \"\"\"\n        data = [1, 2, 3]\n        result = sum(data)\n        self.assertEqual(result, 6)\n\n    def test_list_fraction(self):\n        \"\"\"\n        Test that it can sum a list of fractions\n        \"\"\"\n        data = [Fraction(1, 4), Fraction(1, 4), Fraction(2, 5)]\n        result = sum(data)\n        self.assertEqual(result, 1)\n\nif __name__ == '__main__':\n    unittest.main()",
      "metadata": {
        "trusted": true
      },
      "outputs": [
        {
          "ename": "<class 'ModuleNotFoundError'>",
          "evalue": "No module named 'my_sum'",
          "traceback": [
            "\u001b[0;31m---------------------------------------------------------------------------\u001b[0m",
            "\u001b[0;31mModuleNotFoundError\u001b[0m                       Traceback (most recent call last)",
            "Cell \u001b[0;32mIn[6], line 3\u001b[0m\n\u001b[1;32m      1\u001b[0m \u001b[38;5;28;01mimport\u001b[39;00m \u001b[38;5;21;01munittest\u001b[39;00m\n\u001b[0;32m----> 3\u001b[0m \u001b[38;5;28;01mfrom\u001b[39;00m \u001b[38;5;21;01mmy_sum\u001b[39;00m \u001b[38;5;28;01mimport\u001b[39;00m \u001b[38;5;28msum\u001b[39m\n\u001b[1;32m      6\u001b[0m \u001b[38;5;28;01mclass\u001b[39;00m \u001b[38;5;21;01mTestSum\u001b[39;00m(unittest\u001b[38;5;241m.\u001b[39mTestCase):\n\u001b[1;32m      7\u001b[0m     \u001b[38;5;28;01mdef\u001b[39;00m \u001b[38;5;21mtest_list_int\u001b[39m(\u001b[38;5;28mself\u001b[39m):\n",
            "\u001b[0;31mModuleNotFoundError\u001b[0m: No module named 'my_sum'"
          ],
          "output_type": "error"
        }
      ],
      "execution_count": 6
    },
    {
      "cell_type": "code",
      "source": "",
      "metadata": {
        "trusted": true
      },
      "outputs": [],
      "execution_count": null
    }
  ]
}