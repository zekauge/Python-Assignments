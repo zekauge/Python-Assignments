{
  "metadata": {
    "kernelspec": {
      "name": "python",
      "display_name": "Python (Pyodide)",
      "language": "python"
    },
    "language_info": {
      "codemirror_mode": {
        "name": "python",
        "version": 3
      },
      "file_extension": ".py",
      "mimetype": "text/x-python",
      "name": "python",
      "nbconvert_exporter": "python",
      "pygments_lexer": "ipython3",
      "version": "3.8"
    }
  },
  "nbformat_minor": 4,
  "nbformat": 4,
  "cells": [
    {
      "cell_type": "code",
      "source": "with open(\"zoo.py\", \"w\") as file:\n    file.write(\"\"\"\ndef hours():\n    print(\"Open 9-5 daily\")\n\"\"\")\n",
      "metadata": {
        "trusted": true
      },
      "outputs": [],
      "execution_count": null
    },
    {
      "cell_type": "code",
      "source": ">>> import zoo as menagerie\n>>> menagerie.hours()",
      "metadata": {
        "trusted": true
      },
      "outputs": [],
      "execution_count": null
    },
    {
      "cell_type": "code",
      "source": "from sqlalchemy import create_engine, MetaData, Table, select\n\nengine = create_engine('sqlite:///books.db')\nconnection = engine.connect()\n\nmetadata = MetaData()\nbook_table = Table('book', metadata, autoload_with=engine)\n\nquery = select(book_table.c.title).order_by(book_table.c.title)\nresult = connection.execute(query)\n\ntitles = [row.title for row in result]\ntitles\n",
      "metadata": {
        "trusted": true
      },
      "outputs": [],
      "execution_count": null
    }
  ]
}