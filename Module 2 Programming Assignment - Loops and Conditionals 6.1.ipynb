{
  "metadata": {
    "kernelspec": {
      "name": "python",
      "display_name": "Python (Pyodide)",
      "language": "python"
    },
    "language_info": {
      "codemirror_mode": {
        "name": "python",
        "version": 3
      },
      "file_extension": ".py",
      "mimetype": "text/x-python",
      "name": "python",
      "nbconvert_exporter": "python",
      "pygments_lexer": "ipython3",
      "version": "3.8"
    }
  },
  "nbformat_minor": 4,
  "nbformat": 4,
  "cells": [
    {
      "cell_type": "code",
      "source": "for value in [3, 2, 1, 0]:\n    print(value)",
      "metadata": {
        "trusted": true
      },
      "outputs": [
        {
          "name": "stdout",
          "text": "3\n2\n1\n0\n",
          "output_type": "stream"
        }
      ],
      "execution_count": 1
    },
    {
      "cell_type": "code",
      "source": "guess_me = 7\nnumber = 1\n\nwhile True:\n    if number < guess_me:\n        print(\"too low\")\n        \n    elif number == guess_me:\n        print(\"found it!\")\n        break\n        \n    else:\n        print(\"oops\")\n        break\n    number += 1",
      "metadata": {
        "trusted": true
      },
      "outputs": [
        {
          "name": "stdout",
          "text": "too low\ntoo low\ntoo low\ntoo low\ntoo low\ntoo low\nfound it!\n",
          "output_type": "stream"
        }
      ],
      "execution_count": 2
    },
    {
      "cell_type": "code",
      "source": "guess_me = 5\n\nfor number in range(10):\n    if number < guess_me:\n        print(\"too low\")\n        \n    elif number == guess_me:\n        print(\"found it!\")\n        break\n        \n    else:\n        print(\"oops\")\n        break",
      "metadata": {
        "trusted": true
      },
      "outputs": [
        {
          "name": "stdout",
          "text": "too low\ntoo low\ntoo low\ntoo low\ntoo low\nfound it!\n",
          "output_type": "stream"
        }
      ],
      "execution_count": 6
    },
    {
      "cell_type": "code",
      "source": "",
      "metadata": {
        "trusted": true
      },
      "outputs": [],
      "execution_count": null
    }
  ]
}